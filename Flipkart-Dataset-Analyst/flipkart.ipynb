{
 "cells": [
  {
   "cell_type": "markdown",
   "id": "43d515d3",
   "metadata": {},
   "source": [
    "## Importing libraries"
   ]
  },
  {
   "cell_type": "code",
   "execution_count": 1,
   "id": "ff64ebfa",
   "metadata": {},
   "outputs": [],
   "source": [
    "import pandas as pd\n",
    "import matplotlib.pyplot as plt\n",
    "import seaborn as sns       \n",
    "import numpy as np\n",
    "%matplotlib inline"
   ]
  },
  {
   "cell_type": "markdown",
   "id": "9b1696b3",
   "metadata": {},
   "source": [
    "## Reading Dataset"
   ]
  },
  {
   "cell_type": "code",
   "execution_count": 2,
   "id": "099e4f99",
   "metadata": {},
   "outputs": [],
   "source": [
    "df = pd.read_csv(\"flipkart_com-ecommerce_sample.csv\")"
   ]
  },
  {
   "cell_type": "markdown",
   "id": "8a893393",
   "metadata": {},
   "source": [
    "## Checking First 5 Rows"
   ]
  },
  {
   "cell_type": "code",
   "execution_count": 3,
   "id": "65c18c49",
   "metadata": {},
   "outputs": [
    {
     "data": {
      "text/html": [
       "<div>\n",
       "<style scoped>\n",
       "    .dataframe tbody tr th:only-of-type {\n",
       "        vertical-align: middle;\n",
       "    }\n",
       "\n",
       "    .dataframe tbody tr th {\n",
       "        vertical-align: top;\n",
       "    }\n",
       "\n",
       "    .dataframe thead th {\n",
       "        text-align: right;\n",
       "    }\n",
       "</style>\n",
       "<table border=\"1\" class=\"dataframe\">\n",
       "  <thead>\n",
       "    <tr style=\"text-align: right;\">\n",
       "      <th></th>\n",
       "      <th>uniq_id</th>\n",
       "      <th>crawl_timestamp</th>\n",
       "      <th>product_url</th>\n",
       "      <th>product_name</th>\n",
       "      <th>product_category_tree</th>\n",
       "      <th>pid</th>\n",
       "      <th>retail_price</th>\n",
       "      <th>discounted_price</th>\n",
       "      <th>image</th>\n",
       "      <th>is_FK_Advantage_product</th>\n",
       "      <th>description</th>\n",
       "      <th>product_rating</th>\n",
       "      <th>overall_rating</th>\n",
       "      <th>brand</th>\n",
       "      <th>product_specifications</th>\n",
       "    </tr>\n",
       "  </thead>\n",
       "  <tbody>\n",
       "    <tr>\n",
       "      <th>0</th>\n",
       "      <td>c2d766ca982eca8304150849735ffef9</td>\n",
       "      <td>2016-03-25 22:59:23 +0000</td>\n",
       "      <td>http://www.flipkart.com/alisha-solid-women-s-c...</td>\n",
       "      <td>Alisha Solid Women's Cycling Shorts</td>\n",
       "      <td>[\"Clothing &gt;&gt; Women's Clothing &gt;&gt; Lingerie, Sl...</td>\n",
       "      <td>SRTEH2FF9KEDEFGF</td>\n",
       "      <td>999.0</td>\n",
       "      <td>379.0</td>\n",
       "      <td>[\"http://img5a.flixcart.com/image/short/u/4/a/...</td>\n",
       "      <td>False</td>\n",
       "      <td>Key Features of Alisha Solid Women's Cycling S...</td>\n",
       "      <td>No rating available</td>\n",
       "      <td>No rating available</td>\n",
       "      <td>Alisha</td>\n",
       "      <td>{\"product_specification\"=&gt;[{\"key\"=&gt;\"Number of ...</td>\n",
       "    </tr>\n",
       "    <tr>\n",
       "      <th>1</th>\n",
       "      <td>7f7036a6d550aaa89d34c77bd39a5e48</td>\n",
       "      <td>2016-03-25 22:59:23 +0000</td>\n",
       "      <td>http://www.flipkart.com/fabhomedecor-fabric-do...</td>\n",
       "      <td>FabHomeDecor Fabric Double Sofa Bed</td>\n",
       "      <td>[\"Furniture &gt;&gt; Living Room Furniture &gt;&gt; Sofa B...</td>\n",
       "      <td>SBEEH3QGU7MFYJFY</td>\n",
       "      <td>32157.0</td>\n",
       "      <td>22646.0</td>\n",
       "      <td>[\"http://img6a.flixcart.com/image/sofa-bed/j/f...</td>\n",
       "      <td>False</td>\n",
       "      <td>FabHomeDecor Fabric Double Sofa Bed (Finish Co...</td>\n",
       "      <td>No rating available</td>\n",
       "      <td>No rating available</td>\n",
       "      <td>FabHomeDecor</td>\n",
       "      <td>{\"product_specification\"=&gt;[{\"key\"=&gt;\"Installati...</td>\n",
       "    </tr>\n",
       "    <tr>\n",
       "      <th>2</th>\n",
       "      <td>f449ec65dcbc041b6ae5e6a32717d01b</td>\n",
       "      <td>2016-03-25 22:59:23 +0000</td>\n",
       "      <td>http://www.flipkart.com/aw-bellies/p/itmeh4grg...</td>\n",
       "      <td>AW Bellies</td>\n",
       "      <td>[\"Footwear &gt;&gt; Women's Footwear &gt;&gt; Ballerinas &gt;...</td>\n",
       "      <td>SHOEH4GRSUBJGZXE</td>\n",
       "      <td>999.0</td>\n",
       "      <td>499.0</td>\n",
       "      <td>[\"http://img5a.flixcart.com/image/shoe/7/z/z/r...</td>\n",
       "      <td>False</td>\n",
       "      <td>Key Features of AW Bellies Sandals Wedges Heel...</td>\n",
       "      <td>No rating available</td>\n",
       "      <td>No rating available</td>\n",
       "      <td>AW</td>\n",
       "      <td>{\"product_specification\"=&gt;[{\"key\"=&gt;\"Ideal For\"...</td>\n",
       "    </tr>\n",
       "    <tr>\n",
       "      <th>3</th>\n",
       "      <td>0973b37acd0c664e3de26e97e5571454</td>\n",
       "      <td>2016-03-25 22:59:23 +0000</td>\n",
       "      <td>http://www.flipkart.com/alisha-solid-women-s-c...</td>\n",
       "      <td>Alisha Solid Women's Cycling Shorts</td>\n",
       "      <td>[\"Clothing &gt;&gt; Women's Clothing &gt;&gt; Lingerie, Sl...</td>\n",
       "      <td>SRTEH2F6HUZMQ6SJ</td>\n",
       "      <td>699.0</td>\n",
       "      <td>267.0</td>\n",
       "      <td>[\"http://img5a.flixcart.com/image/short/6/2/h/...</td>\n",
       "      <td>False</td>\n",
       "      <td>Key Features of Alisha Solid Women's Cycling S...</td>\n",
       "      <td>No rating available</td>\n",
       "      <td>No rating available</td>\n",
       "      <td>Alisha</td>\n",
       "      <td>{\"product_specification\"=&gt;[{\"key\"=&gt;\"Number of ...</td>\n",
       "    </tr>\n",
       "    <tr>\n",
       "      <th>4</th>\n",
       "      <td>bc940ea42ee6bef5ac7cea3fb5cfbee7</td>\n",
       "      <td>2016-03-25 22:59:23 +0000</td>\n",
       "      <td>http://www.flipkart.com/sicons-all-purpose-arn...</td>\n",
       "      <td>Sicons All Purpose Arnica Dog Shampoo</td>\n",
       "      <td>[\"Pet Supplies &gt;&gt; Grooming &gt;&gt; Skin &amp; Coat Care...</td>\n",
       "      <td>PSOEH3ZYDMSYARJ5</td>\n",
       "      <td>220.0</td>\n",
       "      <td>210.0</td>\n",
       "      <td>[\"http://img5a.flixcart.com/image/pet-shampoo/...</td>\n",
       "      <td>False</td>\n",
       "      <td>Specifications of Sicons All Purpose Arnica Do...</td>\n",
       "      <td>No rating available</td>\n",
       "      <td>No rating available</td>\n",
       "      <td>Sicons</td>\n",
       "      <td>{\"product_specification\"=&gt;[{\"key\"=&gt;\"Pet Type\",...</td>\n",
       "    </tr>\n",
       "  </tbody>\n",
       "</table>\n",
       "</div>"
      ],
      "text/plain": [
       "                            uniq_id            crawl_timestamp  \\\n",
       "0  c2d766ca982eca8304150849735ffef9  2016-03-25 22:59:23 +0000   \n",
       "1  7f7036a6d550aaa89d34c77bd39a5e48  2016-03-25 22:59:23 +0000   \n",
       "2  f449ec65dcbc041b6ae5e6a32717d01b  2016-03-25 22:59:23 +0000   \n",
       "3  0973b37acd0c664e3de26e97e5571454  2016-03-25 22:59:23 +0000   \n",
       "4  bc940ea42ee6bef5ac7cea3fb5cfbee7  2016-03-25 22:59:23 +0000   \n",
       "\n",
       "                                         product_url  \\\n",
       "0  http://www.flipkart.com/alisha-solid-women-s-c...   \n",
       "1  http://www.flipkart.com/fabhomedecor-fabric-do...   \n",
       "2  http://www.flipkart.com/aw-bellies/p/itmeh4grg...   \n",
       "3  http://www.flipkart.com/alisha-solid-women-s-c...   \n",
       "4  http://www.flipkart.com/sicons-all-purpose-arn...   \n",
       "\n",
       "                            product_name  \\\n",
       "0    Alisha Solid Women's Cycling Shorts   \n",
       "1    FabHomeDecor Fabric Double Sofa Bed   \n",
       "2                             AW Bellies   \n",
       "3    Alisha Solid Women's Cycling Shorts   \n",
       "4  Sicons All Purpose Arnica Dog Shampoo   \n",
       "\n",
       "                               product_category_tree               pid  \\\n",
       "0  [\"Clothing >> Women's Clothing >> Lingerie, Sl...  SRTEH2FF9KEDEFGF   \n",
       "1  [\"Furniture >> Living Room Furniture >> Sofa B...  SBEEH3QGU7MFYJFY   \n",
       "2  [\"Footwear >> Women's Footwear >> Ballerinas >...  SHOEH4GRSUBJGZXE   \n",
       "3  [\"Clothing >> Women's Clothing >> Lingerie, Sl...  SRTEH2F6HUZMQ6SJ   \n",
       "4  [\"Pet Supplies >> Grooming >> Skin & Coat Care...  PSOEH3ZYDMSYARJ5   \n",
       "\n",
       "   retail_price  discounted_price  \\\n",
       "0         999.0             379.0   \n",
       "1       32157.0           22646.0   \n",
       "2         999.0             499.0   \n",
       "3         699.0             267.0   \n",
       "4         220.0             210.0   \n",
       "\n",
       "                                               image is_FK_Advantage_product  \\\n",
       "0  [\"http://img5a.flixcart.com/image/short/u/4/a/...                   False   \n",
       "1  [\"http://img6a.flixcart.com/image/sofa-bed/j/f...                   False   \n",
       "2  [\"http://img5a.flixcart.com/image/shoe/7/z/z/r...                   False   \n",
       "3  [\"http://img5a.flixcart.com/image/short/6/2/h/...                   False   \n",
       "4  [\"http://img5a.flixcart.com/image/pet-shampoo/...                   False   \n",
       "\n",
       "                                         description       product_rating  \\\n",
       "0  Key Features of Alisha Solid Women's Cycling S...  No rating available   \n",
       "1  FabHomeDecor Fabric Double Sofa Bed (Finish Co...  No rating available   \n",
       "2  Key Features of AW Bellies Sandals Wedges Heel...  No rating available   \n",
       "3  Key Features of Alisha Solid Women's Cycling S...  No rating available   \n",
       "4  Specifications of Sicons All Purpose Arnica Do...  No rating available   \n",
       "\n",
       "        overall_rating         brand  \\\n",
       "0  No rating available        Alisha   \n",
       "1  No rating available  FabHomeDecor   \n",
       "2  No rating available            AW   \n",
       "3  No rating available        Alisha   \n",
       "4  No rating available        Sicons   \n",
       "\n",
       "                              product_specifications  \n",
       "0  {\"product_specification\"=>[{\"key\"=>\"Number of ...  \n",
       "1  {\"product_specification\"=>[{\"key\"=>\"Installati...  \n",
       "2  {\"product_specification\"=>[{\"key\"=>\"Ideal For\"...  \n",
       "3  {\"product_specification\"=>[{\"key\"=>\"Number of ...  \n",
       "4  {\"product_specification\"=>[{\"key\"=>\"Pet Type\",...  "
      ]
     },
     "execution_count": 3,
     "metadata": {},
     "output_type": "execute_result"
    }
   ],
   "source": [
    "df.head()"
   ]
  },
  {
   "cell_type": "markdown",
   "id": "583aa951",
   "metadata": {},
   "source": [
    "## Checking last 5 Rows"
   ]
  },
  {
   "cell_type": "code",
   "execution_count": 4,
   "id": "c3233512",
   "metadata": {},
   "outputs": [
    {
     "data": {
      "text/html": [
       "<div>\n",
       "<style scoped>\n",
       "    .dataframe tbody tr th:only-of-type {\n",
       "        vertical-align: middle;\n",
       "    }\n",
       "\n",
       "    .dataframe tbody tr th {\n",
       "        vertical-align: top;\n",
       "    }\n",
       "\n",
       "    .dataframe thead th {\n",
       "        text-align: right;\n",
       "    }\n",
       "</style>\n",
       "<table border=\"1\" class=\"dataframe\">\n",
       "  <thead>\n",
       "    <tr style=\"text-align: right;\">\n",
       "      <th></th>\n",
       "      <th>uniq_id</th>\n",
       "      <th>crawl_timestamp</th>\n",
       "      <th>product_url</th>\n",
       "      <th>product_name</th>\n",
       "      <th>product_category_tree</th>\n",
       "      <th>pid</th>\n",
       "      <th>retail_price</th>\n",
       "      <th>discounted_price</th>\n",
       "      <th>image</th>\n",
       "      <th>is_FK_Advantage_product</th>\n",
       "      <th>description</th>\n",
       "      <th>product_rating</th>\n",
       "      <th>overall_rating</th>\n",
       "      <th>brand</th>\n",
       "      <th>product_specifications</th>\n",
       "    </tr>\n",
       "  </thead>\n",
       "  <tbody>\n",
       "    <tr>\n",
       "      <th>19997</th>\n",
       "      <td>93e9d343837400ce0d7980874ece471c</td>\n",
       "      <td>2015-12-01 10:15:43 +0000</td>\n",
       "      <td>http://www.flipkart.com/elite-collection-mediu...</td>\n",
       "      <td>Elite Collection Medium Acrylic Sticker</td>\n",
       "      <td>[\"Baby Care &gt;&gt; Baby &amp; Kids Gifts &gt;&gt; Stickers &gt;...</td>\n",
       "      <td>STIE7VAYDKQZEBSD</td>\n",
       "      <td>1299.0</td>\n",
       "      <td>999.0</td>\n",
       "      <td>[\"http://img5a.flixcart.com/image/sticker/b/s/...</td>\n",
       "      <td>False</td>\n",
       "      <td>Buy Elite Collection Medium Acrylic Sticker fo...</td>\n",
       "      <td>No rating available</td>\n",
       "      <td>No rating available</td>\n",
       "      <td>Elite Collection</td>\n",
       "      <td>{\"product_specification\"=&gt;[{\"key\"=&gt;\"Number of ...</td>\n",
       "    </tr>\n",
       "    <tr>\n",
       "      <th>19998</th>\n",
       "      <td>669e79b8fa5d9ae020841c0c97d5e935</td>\n",
       "      <td>2015-12-01 10:15:43 +0000</td>\n",
       "      <td>http://www.flipkart.com/elite-collection-mediu...</td>\n",
       "      <td>Elite Collection Medium Acrylic Sticker</td>\n",
       "      <td>[\"Baby Care &gt;&gt; Baby &amp; Kids Gifts &gt;&gt; Stickers &gt;...</td>\n",
       "      <td>STIE8YSVEPPCZ42Y</td>\n",
       "      <td>1499.0</td>\n",
       "      <td>1199.0</td>\n",
       "      <td>[\"http://img5a.flixcart.com/image/sticker/4/2/...</td>\n",
       "      <td>False</td>\n",
       "      <td>Buy Elite Collection Medium Acrylic Sticker fo...</td>\n",
       "      <td>No rating available</td>\n",
       "      <td>No rating available</td>\n",
       "      <td>Elite Collection</td>\n",
       "      <td>{\"product_specification\"=&gt;[{\"key\"=&gt;\"Number of ...</td>\n",
       "    </tr>\n",
       "    <tr>\n",
       "      <th>19999</th>\n",
       "      <td>cb4fa87a874f715fff567f7b7b3be79c</td>\n",
       "      <td>2015-12-01 10:15:43 +0000</td>\n",
       "      <td>http://www.flipkart.com/elite-collection-mediu...</td>\n",
       "      <td>Elite Collection Medium Acrylic Sticker</td>\n",
       "      <td>[\"Baby Care &gt;&gt; Baby &amp; Kids Gifts &gt;&gt; Stickers &gt;...</td>\n",
       "      <td>STIE88KN9ZDSGZKY</td>\n",
       "      <td>1499.0</td>\n",
       "      <td>999.0</td>\n",
       "      <td>[\"http://img6a.flixcart.com/image/sticker/z/k/...</td>\n",
       "      <td>False</td>\n",
       "      <td>Buy Elite Collection Medium Acrylic Sticker fo...</td>\n",
       "      <td>No rating available</td>\n",
       "      <td>No rating available</td>\n",
       "      <td>Elite Collection</td>\n",
       "      <td>{\"product_specification\"=&gt;[{\"key\"=&gt;\"Number of ...</td>\n",
       "    </tr>\n",
       "    <tr>\n",
       "      <th>20000</th>\n",
       "      <td>NaN</td>\n",
       "      <td>NaN</td>\n",
       "      <td>NaN</td>\n",
       "      <td>NaN</td>\n",
       "      <td>NaN</td>\n",
       "      <td>NaN</td>\n",
       "      <td>NaN</td>\n",
       "      <td>NaN</td>\n",
       "      <td>NaN</td>\n",
       "      <td>NaN</td>\n",
       "      <td>NaN</td>\n",
       "      <td>NaN</td>\n",
       "      <td>NaN</td>\n",
       "      <td>NaN</td>\n",
       "      <td>NaN</td>\n",
       "    </tr>\n",
       "    <tr>\n",
       "      <th>20001</th>\n",
       "      <td>NaN</td>\n",
       "      <td>NaN</td>\n",
       "      <td>NaN</td>\n",
       "      <td>NaN</td>\n",
       "      <td>NaN</td>\n",
       "      <td>NaN</td>\n",
       "      <td>NaN</td>\n",
       "      <td>NaN</td>\n",
       "      <td>NaN</td>\n",
       "      <td>NaN</td>\n",
       "      <td>NaN</td>\n",
       "      <td>NaN</td>\n",
       "      <td>NaN</td>\n",
       "      <td>NaN</td>\n",
       "      <td>NaN</td>\n",
       "    </tr>\n",
       "  </tbody>\n",
       "</table>\n",
       "</div>"
      ],
      "text/plain": [
       "                                uniq_id            crawl_timestamp  \\\n",
       "19997  93e9d343837400ce0d7980874ece471c  2015-12-01 10:15:43 +0000   \n",
       "19998  669e79b8fa5d9ae020841c0c97d5e935  2015-12-01 10:15:43 +0000   \n",
       "19999  cb4fa87a874f715fff567f7b7b3be79c  2015-12-01 10:15:43 +0000   \n",
       "20000                               NaN                        NaN   \n",
       "20001                               NaN                        NaN   \n",
       "\n",
       "                                             product_url  \\\n",
       "19997  http://www.flipkart.com/elite-collection-mediu...   \n",
       "19998  http://www.flipkart.com/elite-collection-mediu...   \n",
       "19999  http://www.flipkart.com/elite-collection-mediu...   \n",
       "20000                                                NaN   \n",
       "20001                                                NaN   \n",
       "\n",
       "                                  product_name  \\\n",
       "19997  Elite Collection Medium Acrylic Sticker   \n",
       "19998  Elite Collection Medium Acrylic Sticker   \n",
       "19999  Elite Collection Medium Acrylic Sticker   \n",
       "20000                                      NaN   \n",
       "20001                                      NaN   \n",
       "\n",
       "                                   product_category_tree               pid  \\\n",
       "19997  [\"Baby Care >> Baby & Kids Gifts >> Stickers >...  STIE7VAYDKQZEBSD   \n",
       "19998  [\"Baby Care >> Baby & Kids Gifts >> Stickers >...  STIE8YSVEPPCZ42Y   \n",
       "19999  [\"Baby Care >> Baby & Kids Gifts >> Stickers >...  STIE88KN9ZDSGZKY   \n",
       "20000                                                NaN               NaN   \n",
       "20001                                                NaN               NaN   \n",
       "\n",
       "       retail_price  discounted_price  \\\n",
       "19997        1299.0             999.0   \n",
       "19998        1499.0            1199.0   \n",
       "19999        1499.0             999.0   \n",
       "20000           NaN               NaN   \n",
       "20001           NaN               NaN   \n",
       "\n",
       "                                                   image  \\\n",
       "19997  [\"http://img5a.flixcart.com/image/sticker/b/s/...   \n",
       "19998  [\"http://img5a.flixcart.com/image/sticker/4/2/...   \n",
       "19999  [\"http://img6a.flixcart.com/image/sticker/z/k/...   \n",
       "20000                                                NaN   \n",
       "20001                                                NaN   \n",
       "\n",
       "      is_FK_Advantage_product  \\\n",
       "19997                   False   \n",
       "19998                   False   \n",
       "19999                   False   \n",
       "20000                     NaN   \n",
       "20001                     NaN   \n",
       "\n",
       "                                             description       product_rating  \\\n",
       "19997  Buy Elite Collection Medium Acrylic Sticker fo...  No rating available   \n",
       "19998  Buy Elite Collection Medium Acrylic Sticker fo...  No rating available   \n",
       "19999  Buy Elite Collection Medium Acrylic Sticker fo...  No rating available   \n",
       "20000                                                NaN                  NaN   \n",
       "20001                                                NaN                  NaN   \n",
       "\n",
       "            overall_rating             brand  \\\n",
       "19997  No rating available  Elite Collection   \n",
       "19998  No rating available  Elite Collection   \n",
       "19999  No rating available  Elite Collection   \n",
       "20000                  NaN               NaN   \n",
       "20001                  NaN               NaN   \n",
       "\n",
       "                                  product_specifications  \n",
       "19997  {\"product_specification\"=>[{\"key\"=>\"Number of ...  \n",
       "19998  {\"product_specification\"=>[{\"key\"=>\"Number of ...  \n",
       "19999  {\"product_specification\"=>[{\"key\"=>\"Number of ...  \n",
       "20000                                                NaN  \n",
       "20001                                                NaN  "
      ]
     },
     "execution_count": 4,
     "metadata": {},
     "output_type": "execute_result"
    }
   ],
   "source": [
    "df.tail()"
   ]
  },
  {
   "cell_type": "markdown",
   "id": "48e7b25e",
   "metadata": {},
   "source": [
    "## Checking data types of Columns"
   ]
  },
  {
   "cell_type": "code",
   "execution_count": 5,
   "id": "184cf2bf",
   "metadata": {},
   "outputs": [
    {
     "name": "stdout",
     "output_type": "stream",
     "text": [
      "<class 'pandas.core.frame.DataFrame'>\n",
      "RangeIndex: 20002 entries, 0 to 20001\n",
      "Data columns (total 15 columns):\n",
      " #   Column                   Non-Null Count  Dtype  \n",
      "---  ------                   --------------  -----  \n",
      " 0   uniq_id                  20000 non-null  object \n",
      " 1   crawl_timestamp          20000 non-null  object \n",
      " 2   product_url              20000 non-null  object \n",
      " 3   product_name             20000 non-null  object \n",
      " 4   product_category_tree    20000 non-null  object \n",
      " 5   pid                      20000 non-null  object \n",
      " 6   retail_price             19922 non-null  float64\n",
      " 7   discounted_price         19922 non-null  float64\n",
      " 8   image                    19997 non-null  object \n",
      " 9   is_FK_Advantage_product  20000 non-null  object \n",
      " 10  description              19998 non-null  object \n",
      " 11  product_rating           20000 non-null  object \n",
      " 12  overall_rating           20000 non-null  object \n",
      " 13  brand                    14136 non-null  object \n",
      " 14  product_specifications   19986 non-null  object \n",
      "dtypes: float64(2), object(13)\n",
      "memory usage: 2.3+ MB\n"
     ]
    }
   ],
   "source": [
    "df.info()"
   ]
  },
  {
   "cell_type": "markdown",
   "id": "f3a4f6bb",
   "metadata": {},
   "source": [
    "## Used for statistical values"
   ]
  },
  {
   "cell_type": "code",
   "execution_count": 6,
   "id": "1d9a861a",
   "metadata": {},
   "outputs": [
    {
     "data": {
      "text/html": [
       "<div>\n",
       "<style scoped>\n",
       "    .dataframe tbody tr th:only-of-type {\n",
       "        vertical-align: middle;\n",
       "    }\n",
       "\n",
       "    .dataframe tbody tr th {\n",
       "        vertical-align: top;\n",
       "    }\n",
       "\n",
       "    .dataframe thead th {\n",
       "        text-align: right;\n",
       "    }\n",
       "</style>\n",
       "<table border=\"1\" class=\"dataframe\">\n",
       "  <thead>\n",
       "    <tr style=\"text-align: right;\">\n",
       "      <th></th>\n",
       "      <th>retail_price</th>\n",
       "      <th>discounted_price</th>\n",
       "    </tr>\n",
       "  </thead>\n",
       "  <tbody>\n",
       "    <tr>\n",
       "      <th>count</th>\n",
       "      <td>19922.000000</td>\n",
       "      <td>19922.000000</td>\n",
       "    </tr>\n",
       "    <tr>\n",
       "      <th>mean</th>\n",
       "      <td>2979.206104</td>\n",
       "      <td>1973.401767</td>\n",
       "    </tr>\n",
       "    <tr>\n",
       "      <th>std</th>\n",
       "      <td>9009.639341</td>\n",
       "      <td>7333.586040</td>\n",
       "    </tr>\n",
       "    <tr>\n",
       "      <th>min</th>\n",
       "      <td>35.000000</td>\n",
       "      <td>35.000000</td>\n",
       "    </tr>\n",
       "    <tr>\n",
       "      <th>25%</th>\n",
       "      <td>666.000000</td>\n",
       "      <td>350.000000</td>\n",
       "    </tr>\n",
       "    <tr>\n",
       "      <th>50%</th>\n",
       "      <td>1040.000000</td>\n",
       "      <td>550.000000</td>\n",
       "    </tr>\n",
       "    <tr>\n",
       "      <th>75%</th>\n",
       "      <td>1999.000000</td>\n",
       "      <td>999.000000</td>\n",
       "    </tr>\n",
       "    <tr>\n",
       "      <th>max</th>\n",
       "      <td>571230.000000</td>\n",
       "      <td>571230.000000</td>\n",
       "    </tr>\n",
       "  </tbody>\n",
       "</table>\n",
       "</div>"
      ],
      "text/plain": [
       "        retail_price  discounted_price\n",
       "count   19922.000000      19922.000000\n",
       "mean     2979.206104       1973.401767\n",
       "std      9009.639341       7333.586040\n",
       "min        35.000000         35.000000\n",
       "25%       666.000000        350.000000\n",
       "50%      1040.000000        550.000000\n",
       "75%      1999.000000        999.000000\n",
       "max    571230.000000     571230.000000"
      ]
     },
     "execution_count": 6,
     "metadata": {},
     "output_type": "execute_result"
    }
   ],
   "source": [
    "df.describe()"
   ]
  },
  {
   "cell_type": "markdown",
   "id": "ff3c4c31",
   "metadata": {},
   "source": [
    "## Checking shape of data"
   ]
  },
  {
   "cell_type": "code",
   "execution_count": 7,
   "id": "68cd1782",
   "metadata": {},
   "outputs": [
    {
     "data": {
      "text/plain": [
       "(20002, 15)"
      ]
     },
     "execution_count": 7,
     "metadata": {},
     "output_type": "execute_result"
    }
   ],
   "source": [
    "df.shape"
   ]
  },
  {
   "cell_type": "markdown",
   "id": "a41da4d7",
   "metadata": {},
   "source": [
    "## Checking Unique items"
   ]
  },
  {
   "cell_type": "code",
   "execution_count": 8,
   "id": "a67d5230",
   "metadata": {},
   "outputs": [
    {
     "data": {
      "text/plain": [
       "uniq_id                    20000\n",
       "crawl_timestamp              371\n",
       "product_url                20000\n",
       "product_name               12676\n",
       "product_category_tree       6466\n",
       "pid                        19998\n",
       "retail_price                2247\n",
       "discounted_price            2448\n",
       "image                      18589\n",
       "is_FK_Advantage_product        2\n",
       "description                17539\n",
       "product_rating                36\n",
       "overall_rating                36\n",
       "brand                       3499\n",
       "product_specifications     18825\n",
       "dtype: int64"
      ]
     },
     "execution_count": 8,
     "metadata": {},
     "output_type": "execute_result"
    }
   ],
   "source": [
    "df.nunique()"
   ]
  },
  {
   "cell_type": "markdown",
   "id": "a66b9f72",
   "metadata": {},
   "source": [
    "## Calculate sum of null values for each column"
   ]
  },
  {
   "cell_type": "code",
   "execution_count": 9,
   "id": "bd6f5719",
   "metadata": {
    "scrolled": true
   },
   "outputs": [
    {
     "data": {
      "text/plain": [
       "uniq_id                       2\n",
       "crawl_timestamp               2\n",
       "product_url                   2\n",
       "product_name                  2\n",
       "product_category_tree         2\n",
       "pid                           2\n",
       "retail_price                 80\n",
       "discounted_price             80\n",
       "image                         5\n",
       "is_FK_Advantage_product       2\n",
       "description                   4\n",
       "product_rating                2\n",
       "overall_rating                2\n",
       "brand                      5866\n",
       "product_specifications       16\n",
       "dtype: int64"
      ]
     },
     "execution_count": 9,
     "metadata": {},
     "output_type": "execute_result"
    }
   ],
   "source": [
    "df.isnull().sum()"
   ]
  },
  {
   "cell_type": "markdown",
   "id": "ed225a19",
   "metadata": {},
   "source": [
    "# Data Cleaning"
   ]
  },
  {
   "cell_type": "markdown",
   "id": "7e1aecdd",
   "metadata": {},
   "source": [
    "### Removing Unuseful columns"
   ]
  },
  {
   "cell_type": "code",
   "execution_count": 10,
   "id": "5fe4c758",
   "metadata": {},
   "outputs": [],
   "source": [
    "df.drop(['uniq_id','image', 'description', 'overall_rating', 'product_specifications'],axis=1, inplace=True)"
   ]
  },
  {
   "cell_type": "markdown",
   "id": "6cf3d312",
   "metadata": {},
   "source": [
    "### Filling mean in place of missing data "
   ]
  },
  {
   "cell_type": "code",
   "execution_count": 11,
   "id": "3abc3879",
   "metadata": {},
   "outputs": [
    {
     "name": "stderr",
     "output_type": "stream",
     "text": [
      "C:\\Users\\hp\\AppData\\Local\\Temp/ipykernel_15968/820435583.py:1: FutureWarning: Dropping of nuisance columns in DataFrame reductions (with 'numeric_only=None') is deprecated; in a future version this will raise TypeError.  Select only valid columns before calling the reduction.\n",
      "  df.fillna(df.mean(), inplace=True)\n"
     ]
    }
   ],
   "source": [
    "df.fillna(df.mean(), inplace=True)"
   ]
  },
  {
   "cell_type": "markdown",
   "id": "b21fe908",
   "metadata": {},
   "source": [
    "### Filling No brand where brand is not specified"
   ]
  },
  {
   "cell_type": "code",
   "execution_count": 12,
   "id": "8fe2952f",
   "metadata": {},
   "outputs": [],
   "source": [
    "df['brand'].fillna(\"No brand\", inplace=True)"
   ]
  },
  {
   "cell_type": "markdown",
   "id": "3ce59a6e",
   "metadata": {},
   "source": [
    "### Removing NaN values"
   ]
  },
  {
   "cell_type": "code",
   "execution_count": 13,
   "id": "3870a941",
   "metadata": {},
   "outputs": [],
   "source": [
    "df.dropna(inplace=True)"
   ]
  },
  {
   "cell_type": "markdown",
   "id": "d1f06240",
   "metadata": {},
   "source": [
    "### Checking null values"
   ]
  },
  {
   "cell_type": "code",
   "execution_count": 14,
   "id": "08b83ba4",
   "metadata": {},
   "outputs": [
    {
     "data": {
      "text/plain": [
       "crawl_timestamp            0\n",
       "product_url                0\n",
       "product_name               0\n",
       "product_category_tree      0\n",
       "pid                        0\n",
       "retail_price               0\n",
       "discounted_price           0\n",
       "is_FK_Advantage_product    0\n",
       "product_rating             0\n",
       "brand                      0\n",
       "dtype: int64"
      ]
     },
     "execution_count": 14,
     "metadata": {},
     "output_type": "execute_result"
    }
   ],
   "source": [
    "df.isnull().sum()"
   ]
  },
  {
   "cell_type": "code",
   "execution_count": 15,
   "id": "c6851b05",
   "metadata": {},
   "outputs": [
    {
     "data": {
      "text/html": [
       "<div>\n",
       "<style scoped>\n",
       "    .dataframe tbody tr th:only-of-type {\n",
       "        vertical-align: middle;\n",
       "    }\n",
       "\n",
       "    .dataframe tbody tr th {\n",
       "        vertical-align: top;\n",
       "    }\n",
       "\n",
       "    .dataframe thead th {\n",
       "        text-align: right;\n",
       "    }\n",
       "</style>\n",
       "<table border=\"1\" class=\"dataframe\">\n",
       "  <thead>\n",
       "    <tr style=\"text-align: right;\">\n",
       "      <th></th>\n",
       "      <th>retail_price</th>\n",
       "      <th>discounted_price</th>\n",
       "    </tr>\n",
       "  </thead>\n",
       "  <tbody>\n",
       "    <tr>\n",
       "      <th>count</th>\n",
       "      <td>20000.000000</td>\n",
       "      <td>20000.000000</td>\n",
       "    </tr>\n",
       "    <tr>\n",
       "      <th>mean</th>\n",
       "      <td>2979.206104</td>\n",
       "      <td>1973.401767</td>\n",
       "    </tr>\n",
       "    <tr>\n",
       "      <th>std</th>\n",
       "      <td>8992.052501</td>\n",
       "      <td>7319.270861</td>\n",
       "    </tr>\n",
       "    <tr>\n",
       "      <th>min</th>\n",
       "      <td>35.000000</td>\n",
       "      <td>35.000000</td>\n",
       "    </tr>\n",
       "    <tr>\n",
       "      <th>25%</th>\n",
       "      <td>675.000000</td>\n",
       "      <td>350.000000</td>\n",
       "    </tr>\n",
       "    <tr>\n",
       "      <th>50%</th>\n",
       "      <td>1049.000000</td>\n",
       "      <td>550.000000</td>\n",
       "    </tr>\n",
       "    <tr>\n",
       "      <th>75%</th>\n",
       "      <td>1999.000000</td>\n",
       "      <td>1000.000000</td>\n",
       "    </tr>\n",
       "    <tr>\n",
       "      <th>max</th>\n",
       "      <td>571230.000000</td>\n",
       "      <td>571230.000000</td>\n",
       "    </tr>\n",
       "  </tbody>\n",
       "</table>\n",
       "</div>"
      ],
      "text/plain": [
       "        retail_price  discounted_price\n",
       "count   20000.000000      20000.000000\n",
       "mean     2979.206104       1973.401767\n",
       "std      8992.052501       7319.270861\n",
       "min        35.000000         35.000000\n",
       "25%       675.000000        350.000000\n",
       "50%      1049.000000        550.000000\n",
       "75%      1999.000000       1000.000000\n",
       "max    571230.000000     571230.000000"
      ]
     },
     "execution_count": 15,
     "metadata": {},
     "output_type": "execute_result"
    }
   ],
   "source": [
    "df.describe()"
   ]
  },
  {
   "cell_type": "markdown",
   "id": "229c53bf",
   "metadata": {},
   "source": [
    "### Checking Duplicates value"
   ]
  },
  {
   "cell_type": "code",
   "execution_count": 16,
   "id": "92bec57f",
   "metadata": {},
   "outputs": [
    {
     "data": {
      "text/plain": [
       "0"
      ]
     },
     "execution_count": 16,
     "metadata": {},
     "output_type": "execute_result"
    }
   ],
   "source": [
    "df.duplicated().sum()"
   ]
  },
  {
   "cell_type": "markdown",
   "id": "936100de",
   "metadata": {},
   "source": [
    "# Data Visualisation"
   ]
  },
  {
   "cell_type": "markdown",
   "id": "8c408b2d",
   "metadata": {},
   "source": [
    "### Visualizing Numerical variables"
   ]
  },
  {
   "cell_type": "code",
   "execution_count": 17,
   "id": "1cd2787d",
   "metadata": {},
   "outputs": [
    {
     "data": {
      "text/plain": [
       "array([[<AxesSubplot:title={'center':'retail_price'}>,\n",
       "        <AxesSubplot:title={'center':'discounted_price'}>]], dtype=object)"
      ]
     },
     "execution_count": 17,
     "metadata": {},
     "output_type": "execute_result"
    },
    {
     "data": {
      "image/png": "[encoded data removed]",
      "text/plain": [
       "<Figure size 504x504 with 2 Axes>"
      ]
     },
     "metadata": {
      "needs_background": "light"
     },
     "output_type": "display_data"
    }
   ],
   "source": [
    "df.hist(figsize=(7,7))"
   ]
  },
  {
   "cell_type": "markdown",
   "id": "fc496360",
   "metadata": {},
   "source": [
    "# Analyzing the dataset"
   ]
  },
  {
   "cell_type": "markdown",
   "id": "fc348746",
   "metadata": {},
   "source": [
    "## Top 10 selling products"
   ]
  },
  {
   "cell_type": "code",
   "execution_count": 20,
   "id": "7fa81240",
   "metadata": {},
   "outputs": [
    {
     "data": {
      "text/plain": [
       "<AxesSubplot:>"
      ]
     },
     "execution_count": 20,
     "metadata": {},
     "output_type": "execute_result"
    },
    {
     "data": {
      "image/png": "[encoded data removed]",
      "text/plain": [
       "<Figure size 360x360 with 1 Axes>"
      ]
     },
     "metadata": {
      "needs_background": "light"
     },
     "output_type": "display_data"
    }
   ],
   "source": [
    "df[\"product_name\"].value_counts()[:10].plot(kind='bar',figsize=(5,5))"
   ]
  },
  {
   "cell_type": "markdown",
   "id": "52a69359",
   "metadata": {},
   "source": [
    "## Top 10 performing brands"
   ]
  },
  {
   "cell_type": "code",
   "execution_count": 24,
   "id": "9e6d9f91",
   "metadata": {},
   "outputs": [
    {
     "data": {
      "text/plain": [
       "<AxesSubplot:ylabel='brand'>"
      ]
     },
     "execution_count": 24,
     "metadata": {},
     "output_type": "execute_result"
    },
    {
     "data": {
      "image/png": "[encoded data removed]",
      "text/plain": [
       "<Figure size 648x648 with 1 Axes>"
      ]
     },
     "metadata": {},
     "output_type": "display_data"
    }
   ],
   "source": [
    "df[\"brand\"].value_counts()[1:11].plot(kind='pie', autopct=\"%1.0f%%\", figsize=(9,9))"
   ]
  },
  {
   "cell_type": "markdown",
   "id": "67a55de9",
   "metadata": {},
   "source": [
    "# Conclusion"
   ]
  },
  {
   "cell_type": "markdown",
   "id": "718ff491",
   "metadata": {},
   "source": [
    "### 1. Most selling product is TheLostPuppy Back cover for Apple ipad Air."
   ]
  },
  {
   "cell_type": "markdown",
   "id": "0172007b",
   "metadata": {},
   "source": [
    "### 2. Best performing brand is Regular."
   ]
  }
 ],
 "metadata": {
  "kernelspec": {
   "display_name": "Python 3 (ipykernel)",
   "language": "python",
   "name": "python3"
  },
  "language_info": {
   "codemirror_mode": {
    "name": "ipython",
    "version": 3
   },
   "file_extension": ".py",
   "mimetype": "text/x-python",
   "name": "python",
   "nbconvert_exporter": "python",
   "pygments_lexer": "ipython3",
   "version": "3.9.7"
  }
 },
 "nbformat": 4,
 "nbformat_minor": 5
}
